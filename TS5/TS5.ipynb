{
 "cells": [
  {
   "cell_type": "markdown",
   "id": "9f0cae2a",
   "metadata": {},
   "source": [
    "<img src=\"../logo_UTN.svg\" align=\"right\" width=\"150\" /> \n",
    "\n",
    "# Teoría De Circuitos 2\n",
    "\n",
    "# Trabajo Semanal Nº5\n",
    "#### Federico Borello"
   ]
  },
  {
   "cell_type": "markdown",
   "id": "71cc7245",
   "metadata": {},
   "source": [
    "### Consigna\n"
   ]
  },
  {
   "cell_type": "code",
   "execution_count": null,
   "id": "b65976f8",
   "metadata": {},
   "outputs": [],
   "source": [
    "from IPython.display import HTML\n",
    "\n",
    "file = \"./TS5_handwritten.pdf\"\n",
    "html = f\"\"\"\n",
    "<div style=\"text-align:center;\">\n",
    "    <iframe src=\"{file}\" width=\"900\" height=\"600\"></iframe>\n",
    "</div>\n",
    "\"\"\"\n",
    "HTML(html)"
   ]
  },
  {
   "cell_type": "code",
   "execution_count": null,
   "id": "17a0c84b",
   "metadata": {},
   "outputs": [],
   "source": [
    "# SetUp - Import /utils module\n",
    "import sys\n",
    "import os\n",
    "\n",
    "sys.path.append(os.path.abspath(\"..\"))\n",
    "import utils.plot as uplt\n",
    "\n",
    "# Import common packages\n",
    "from IPython.display import display, Markdown\n",
    "import sympy as sp\n",
    "import numpy as np"
   ]
  },
  {
   "cell_type": "markdown",
   "id": "885cb3d9",
   "metadata": {},
   "source": [
    "# Analisis Previo"
   ]
  },
  {
   "cell_type": "markdown",
   "id": "b318eee3",
   "metadata": {},
   "source": [
    "## Caso de Estudio\n",
    "\n",
    "Se pide un $\\alpha_{max} = 1[dB]$."
   ]
  },
  {
   "cell_type": "markdown",
   "id": "16c8d45f",
   "metadata": {},
   "source": [
    "## Normalización"
   ]
  },
  {
   "cell_type": "markdown",
   "id": "c58b8bf0",
   "metadata": {},
   "source": [
    "## Gráfico de Modulo y Fase"
   ]
  },
  {
   "cell_type": "markdown",
   "id": "6ec242b5",
   "metadata": {},
   "source": [
    "### Simulación con LT Spice\n",
    "\n",
    "Circuito:\n",
    "\n",
    "<div align=center>\n",
    "\n",
    "\n",
    "</div>\n",
    "\n",
    "Módulo y Fase:\n",
    "\n",
    "<div align=center>\n",
    "\n",
    "\n",
    "</div>"
   ]
  },
  {
   "cell_type": "markdown",
   "id": "1343ff1d",
   "metadata": {
    "vscode": {
     "languageId": "html"
    }
   },
   "source": [
    "<a href=\"./TS5.asc\" download=\"TS5.asc\">Descargar TS5.asc</a>"
   ]
  }
 ],
 "metadata": {
  "kernelspec": {
   "display_name": "venv",
   "language": "python",
   "name": "python3"
  },
  "language_info": {
   "codemirror_mode": {
    "name": "ipython",
    "version": 3
   },
   "file_extension": ".py",
   "mimetype": "text/x-python",
   "name": "python",
   "nbconvert_exporter": "python",
   "pygments_lexer": "ipython3",
   "version": "3.10.12"
  }
 },
 "nbformat": 4,
 "nbformat_minor": 5
}
